{
 "cells": [
  {
   "cell_type": "code",
   "execution_count": 1,
   "metadata": {},
   "outputs": [],
   "source": [
    "import hashlib\n",
    "import random\n",
    "import json"
   ]
  },
  {
   "cell_type": "markdown",
   "metadata": {},
   "source": [
    "# Transactions, Validation, and updating system state\n",
    "\n",
    "Blockchain is a distributed database with a set of rules for verifying new additions. We’ll start off by tracking the accounts of two imaginary people: Alice and Bob, who will trade virtual money with each other.\n",
    "\n",
    "To simulate a blockchanin implementation we need:\n",
    "- initial state showing the balance of each account\n",
    "- incoming transactions\n",
    "- transaction validation functionality\n",
    "- transaction blocking functionality\n",
    "- block validation functionality\n",
    "\n",
    "![blockchain](blockchain.png)"
   ]
  },
  {
   "cell_type": "markdown",
   "metadata": {},
   "source": [
    "# Transactions \n",
    "\n",
    "The function below generates random trainsactions with rules:\n",
    "- withdrawal have negative numbers, and deposits positive\n",
    "- deposits have same magnitude as the withdrawal"
   ]
  },
  {
   "cell_type": "code",
   "execution_count": 30,
   "metadata": {},
   "outputs": [
    {
     "data": {
      "text/plain": [
       "[{'Alice': -3, 'Bob': 3},\n",
       " {'Alice': 4, 'Bob': -4},\n",
       " {'Alice': -5, 'Bob': 5},\n",
       " {'Alice': -3, 'Bob': 3},\n",
       " {'Alice': -1, 'Bob': 1},\n",
       " {'Alice': 5, 'Bob': -5},\n",
       " {'Alice': -5, 'Bob': 5},\n",
       " {'Alice': -5, 'Bob': 5},\n",
       " {'Alice': -1, 'Bob': 1},\n",
       " {'Alice': -3, 'Bob': 3}]"
      ]
     },
     "execution_count": 30,
     "metadata": {},
     "output_type": "execute_result"
    }
   ],
   "source": [
    "def make_random_transaction():\n",
    "    amount = random.randint(1, 5)\n",
    "    alice = random.choice([-amount, amount])\n",
    "    bob = -alice\n",
    "    return {'Alice':alice, 'Bob':bob}\n",
    "\n",
    "[make_random_transaction() for _ in range(10)]"
   ]
  },
  {
   "cell_type": "markdown",
   "metadata": {},
   "source": [
    "# State"
   ]
  },
  {
   "cell_type": "code",
   "execution_count": 18,
   "metadata": {},
   "outputs": [
    {
     "data": {
      "text/plain": [
       "{'Alice': 2, 'Bob': 8}"
      ]
     },
     "execution_count": 18,
     "metadata": {},
     "output_type": "execute_result"
    }
   ],
   "source": [
    "def update_state(transaction, state):\n",
    "    state = state.copy()\n",
    "    for key in transaction:\n",
    "        state[key] = state.get(key, 0) + transaction[key]\n",
    "    return state\n",
    "\n",
    "state = {'Alice':5, 'Bob':5}\n",
    "transaction = {'Alice': -3, 'Bob': 3}\n",
    "state = update_state(transaction, state)\n",
    "state"
   ]
  },
  {
   "cell_type": "markdown",
   "metadata": {},
   "source": [
    "# Transaction Validation"
   ]
  },
  {
   "cell_type": "code",
   "execution_count": 19,
   "metadata": {},
   "outputs": [],
   "source": [
    "def validate_transaction(transaction, state):\n",
    "    if sum(transaction.values()):\n",
    "        return False\n",
    "    \n",
    "    for key in transaction.keys():\n",
    "        if state.get(key, 0) + transaction[key] < 0:\n",
    "            return False\n",
    "\n",
    "    return True\n",
    "\n",
    "state = {'Alice':5, 'Bob':5}\n",
    "\n",
    "assert validate_transaction({'Alice': -3, 'Bob': 3}, state)\n",
    "assert not validate_transaction({'Alice': -4, 'Bob': 3}, state)\n",
    "assert not validate_transaction({'Alice': -6, 'Bob': 6}, state)\n",
    "assert validate_transaction({'Alice': -4, 'Bob': 2, 'Lisa': 2}, state)\n",
    "assert not validate_transaction({'Alice': -4, 'Bob': 3, 'Lisa': 2}, state)"
   ]
  },
  {
   "cell_type": "markdown",
   "metadata": {},
   "source": [
    "# Blocks\n",
    "\n",
    "Each block contains:\n",
    "- batch of N transactions (N - block size)\n",
    "- a reference to the hash of the previous block (unless block 0)\n",
    "- block number\n",
    "- a header with hash of its contents"
   ]
  },
  {
   "cell_type": "markdown",
   "metadata": {},
   "source": [
    "# Hash function"
   ]
  },
  {
   "cell_type": "code",
   "execution_count": 20,
   "metadata": {},
   "outputs": [
    {
     "data": {
      "text/plain": [
       "'426fc04f04bf8fdb5831dc37bbb6dcf70f63a37e05a68c6ea5f63e85ae579376'"
      ]
     },
     "execution_count": 20,
     "metadata": {},
     "output_type": "execute_result"
    }
   ],
   "source": [
    "def hash_function(msg=''):\n",
    "    if type(msg) != str:\n",
    "        msg = json.dumps(msg, sort_keys=True)\n",
    "    msg = str(msg).encode('utf-8')\n",
    "    return hashlib.sha256(msg).hexdigest()\n",
    "\n",
    "hash_function({'foo':'bar'})"
   ]
  },
  {
   "cell_type": "markdown",
   "metadata": {},
   "source": [
    "# Initial State"
   ]
  },
  {
   "cell_type": "code",
   "execution_count": 34,
   "metadata": {},
   "outputs": [],
   "source": [
    "state = {'Alice': 50, 'Bob': 50}\n",
    "blockchain = []"
   ]
  },
  {
   "cell_type": "markdown",
   "metadata": {},
   "source": [
    "# Block 0 is spcecial\n",
    "\n",
    "The blockchain is empty and we start by defining the block 0. \n",
    "- not linked to any prior block\n",
    "- instead of transactions it holds the initial state"
   ]
  },
  {
   "cell_type": "code",
   "execution_count": 35,
   "metadata": {},
   "outputs": [
    {
     "data": {
      "text/plain": [
       "[{'contents': {'number': 0,\n",
       "   'parent_hash': None,\n",
       "   'transactions': [{'Alice': 50, 'Bob': 50}],\n",
       "   'transactions_count': 1},\n",
       "  'hash': '4df8dbf145fcf2f5ad3f122fa8f33fad4a2498a5325149c3515053fb6b844afd'}]"
      ]
     },
     "execution_count": 35,
     "metadata": {},
     "output_type": "execute_result"
    }
   ],
   "source": [
    "block0_contents = {\n",
    "    'number': 0,\n",
    "    'parent_hash': None,\n",
    "    'transactions_count': 1,\n",
    "    'transactions': [state]\n",
    "}\n",
    "\n",
    "block0 = {\n",
    "    'hash': hash_function(block0_contents),\n",
    "    'contents': block0_contents\n",
    "}\n",
    "\n",
    "blockchain.append(block0)\n",
    "blockchain"
   ]
  },
  {
   "cell_type": "markdown",
   "metadata": {},
   "source": [
    "# All other blocks are created as so:"
   ]
  },
  {
   "cell_type": "code",
   "execution_count": 36,
   "metadata": {},
   "outputs": [],
   "source": [
    "def make_block(transactions, chain):\n",
    "    parent = chain[-1]\n",
    "\n",
    "    contents = {\n",
    "        'number': parent['contents']['number'] + 1,\n",
    "        'parent_hash': parent['hash'],\n",
    "        'transactions_count': len(transactions),\n",
    "        'transactions': transactions\n",
    "    }\n",
    "    return {\n",
    "        'hash': hash_function(contents),\n",
    "        'contents': contents\n",
    "    }"
   ]
  },
  {
   "cell_type": "markdown",
   "metadata": {},
   "source": [
    "# Random transactinons for our blockchain"
   ]
  },
  {
   "cell_type": "code",
   "execution_count": 37,
   "metadata": {},
   "outputs": [
    {
     "data": {
      "text/plain": [
       "[{'Alice': 2, 'Bob': -2},\n",
       " {'Alice': 3, 'Bob': -3},\n",
       " {'Alice': -5, 'Bob': 5},\n",
       " {'Alice': 1, 'Bob': -1},\n",
       " {'Alice': 4, 'Bob': -4},\n",
       " {'Alice': 4, 'Bob': -4},\n",
       " {'Alice': -5, 'Bob': 5},\n",
       " {'Alice': 3, 'Bob': -3},\n",
       " {'Alice': -4, 'Bob': 4},\n",
       " {'Alice': 3, 'Bob': -3},\n",
       " {'Alice': 3, 'Bob': -3},\n",
       " {'Alice': -4, 'Bob': 4},\n",
       " {'Alice': -3, 'Bob': 3},\n",
       " {'Alice': -4, 'Bob': 4},\n",
       " {'Alice': 1, 'Bob': -1}]"
      ]
     },
     "execution_count": 37,
     "metadata": {},
     "output_type": "execute_result"
    }
   ],
   "source": [
    "transactions = [make_random_transaction() for _ in range(15)]\n",
    "transactions"
   ]
  },
  {
   "cell_type": "markdown",
   "metadata": {},
   "source": [
    "# Create blocks from transactions"
   ]
  },
  {
   "cell_type": "code",
   "execution_count": 38,
   "metadata": {},
   "outputs": [
    {
     "data": {
      "text/plain": [
       "{'Alice': 49, 'Bob': 51}"
      ]
     },
     "execution_count": 38,
     "metadata": {},
     "output_type": "execute_result"
    }
   ],
   "source": [
    "block_size = 5\n",
    "\n",
    "transactions_buffer = []\n",
    "for transaction in transactions:\n",
    "    if not validate_transaction(transaction, state):\n",
    "        continue\n",
    "        \n",
    "    state = update_state(transaction, state)\n",
    "    transactions_buffer.append(transaction)\n",
    "    \n",
    "    if len(transactions_buffer) == block_size:\n",
    "        block = make_block(transactions_buffer, blockchain)\n",
    "        blockchain.append(block)\n",
    "        transactions_buffer = []\n",
    "state"
   ]
  },
  {
   "cell_type": "markdown",
   "metadata": {},
   "source": [
    "# Blockchain output"
   ]
  },
  {
   "cell_type": "code",
   "execution_count": 39,
   "metadata": {},
   "outputs": [
    {
     "data": {
      "text/plain": [
       "[{'contents': {'number': 0,\n",
       "   'parent_hash': None,\n",
       "   'transactions': [{'Alice': 50, 'Bob': 50}],\n",
       "   'transactions_count': 1},\n",
       "  'hash': '4df8dbf145fcf2f5ad3f122fa8f33fad4a2498a5325149c3515053fb6b844afd'},\n",
       " {'contents': {'number': 1,\n",
       "   'parent_hash': '4df8dbf145fcf2f5ad3f122fa8f33fad4a2498a5325149c3515053fb6b844afd',\n",
       "   'transactions': [{'Alice': 2, 'Bob': -2},\n",
       "    {'Alice': 3, 'Bob': -3},\n",
       "    {'Alice': -5, 'Bob': 5},\n",
       "    {'Alice': 1, 'Bob': -1},\n",
       "    {'Alice': 4, 'Bob': -4}],\n",
       "   'transactions_count': 5},\n",
       "  'hash': '8522e1ce10820e7a9f84be1a9fcdbefe7fd22f61479a61df18e10a6fe60ae0a9'},\n",
       " {'contents': {'number': 2,\n",
       "   'parent_hash': '8522e1ce10820e7a9f84be1a9fcdbefe7fd22f61479a61df18e10a6fe60ae0a9',\n",
       "   'transactions': [{'Alice': 4, 'Bob': -4},\n",
       "    {'Alice': -5, 'Bob': 5},\n",
       "    {'Alice': 3, 'Bob': -3},\n",
       "    {'Alice': -4, 'Bob': 4},\n",
       "    {'Alice': 3, 'Bob': -3}],\n",
       "   'transactions_count': 5},\n",
       "  'hash': 'c6d30c11983dda3979b06d42874268f52bb20eafeb907c8bd2c95af3b9f8d073'},\n",
       " {'contents': {'number': 3,\n",
       "   'parent_hash': 'c6d30c11983dda3979b06d42874268f52bb20eafeb907c8bd2c95af3b9f8d073',\n",
       "   'transactions': [{'Alice': 3, 'Bob': -3},\n",
       "    {'Alice': -4, 'Bob': 4},\n",
       "    {'Alice': -3, 'Bob': 3},\n",
       "    {'Alice': -4, 'Bob': 4},\n",
       "    {'Alice': 1, 'Bob': -1}],\n",
       "   'transactions_count': 5},\n",
       "  'hash': 'd243fea1f643977b8c61ce5399a56015d87b15ab39692849f5ac7595bde18945'}]"
      ]
     },
     "execution_count": 39,
     "metadata": {},
     "output_type": "execute_result"
    }
   ],
   "source": [
    "blockchain"
   ]
  },
  {
   "cell_type": "markdown",
   "metadata": {},
   "source": [
    "# Checking Chain Validity\n",
    "\n",
    "\n",
    "When we initially set up our blockchain, we have to download the full blockchain history. After downloading the chain, we would need to run through the blockchain to compute the state. To protect against somebody inserting invalid transactions in the initial chain, we need to validate of the entire chain in this initial download. Once our blockchain is synced with the network it will need to validate new blocks as they come.\n",
    "\n",
    "In order to validate blocks we need the fowoling checks:\n",
    "- block hash matches the contents\n",
    "- block attributes are valid\n",
    "- all transactions in block are valid"
   ]
  },
  {
   "cell_type": "code",
   "execution_count": 11,
   "metadata": {},
   "outputs": [],
   "source": [
    "def validate_block(block, parent, state):    \n",
    "    error_msg = 'Error in %d' % block['contents']['number']\n",
    "\n",
    "    # check block hash\n",
    "    assert block['hash'] == hash_function(block['contents']), error_msg\n",
    "\n",
    "    # check block numbers\n",
    "    assert block['contents']['number'] == parent['contents']['number'] + 1, error_msg\n",
    "\n",
    "    # check parent hash\n",
    "    assert block['contents']['parent_hash'] == parent['hash'], error_msg\n",
    "    \n",
    "    # check transaction count\n",
    "    assert len(block['contents']['transactions']) == block['contents']['transactions_count']\n",
    "    \n",
    "    # validate all transactions\n",
    "    for transaction in block['contents']['transactions']:\n",
    "        assert validate_transaction(transaction, state), error_msg\n",
    "        state = update_state(transaction, state)\n",
    "        \n",
    "    return state"
   ]
  },
  {
   "cell_type": "markdown",
   "metadata": {},
   "source": [
    "# Blockchain initialization"
   ]
  },
  {
   "cell_type": "code",
   "execution_count": 12,
   "metadata": {},
   "outputs": [
    {
     "data": {
      "text/plain": [
       "{'Alice': 69, 'Bob': 31}"
      ]
     },
     "execution_count": 12,
     "metadata": {},
     "output_type": "execute_result"
    }
   ],
   "source": [
    "def check_chain(blockchain):\n",
    "    state = {}\n",
    "\n",
    "    for transaction in blockchain[0]['contents']['transactions']:\n",
    "        state = update_state(transaction, state)\n",
    "\n",
    "    parent = blockchain[0]\n",
    "    \n",
    "    for block in blockchain[1:]:\n",
    "        state = validate_block(block, parent, state)\n",
    "        parent = block\n",
    "\n",
    "    return state\n",
    "\n",
    "check_chain(blockchain)"
   ]
  },
  {
   "cell_type": "markdown",
   "metadata": {},
   "source": [
    "# Conclusions\n",
    "\n",
    "We’ve created all the basic architecture for a blockchain, from a set of state transition rules to a method for creating blocks, to mechanisms for checking the validity of transactions, blocks, and the full chain. We can derive the system state from a downloaded copy of the blockchain, validate new blocks that we recieve from the network, and create our own blocks.\n"
   ]
  },
  {
   "cell_type": "markdown",
   "metadata": {},
   "source": [
    "# Extensions\n",
    "\n",
    "We haven’t explored the network architecture, the proof-of-work or proof-of-state validation step, and the consensus mechanism which provides blockchains with security against attack. We also haven’t discussed public key cryptography, privacy, and verification steps."
   ]
  },
  {
   "cell_type": "markdown",
   "metadata": {},
   "source": [
    "# References\n",
    "\n",
    "- http://ecomunsing.com/build-your-own-blockchain\n",
    "- http://www.androidauthority.com/what-is-a-blockchain-gary-explains-801514/"
   ]
  }
 ],
 "metadata": {
  "kernelspec": {
   "display_name": "Python 3",
   "language": "python",
   "name": "python3"
  },
  "language_info": {
   "codemirror_mode": {
    "name": "ipython",
    "version": 3
   },
   "file_extension": ".py",
   "mimetype": "text/x-python",
   "name": "python",
   "nbconvert_exporter": "python",
   "pygments_lexer": "ipython3",
   "version": "3.6.3"
  }
 },
 "nbformat": 4,
 "nbformat_minor": 2
}
